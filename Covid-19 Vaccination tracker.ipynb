{
 "cells": [
  {
   "cell_type": "markdown",
   "metadata": {},
   "source": [
    "## Covid-19 Vaccination Tracker"
   ]
  },
  {
   "cell_type": "markdown",
   "metadata": {},
   "source": [
    "#### Data set used: https://ourworldindata.org/covid-vaccinations"
   ]
  },
  {
   "cell_type": "markdown",
   "metadata": {},
   "source": [
    "Our COVID-19 Vaccination Dashboard is a powerful data analysis project that offers real-time tracking of COVID-19 vaccination progress worldwide. Users can filter and explore data by date and country to gain insights into the number of people who are fully and partially vaccinated. This interactive tool provides a comprehensive view of vaccination rates, helping individuals and policymakers make informed decisions to combat the pandemic.\n",
    "\n",
    "\n",
    "\n",
    "\n"
   ]
  },
  {
   "cell_type": "markdown",
   "metadata": {},
   "source": [
    "**Link to Dashboard**\n",
    "<small>\n",
    "- https://app.powerbi.com/view?r=eyJrIjoiYTRmZThiMDktM2FjNi00OTY0LTkzNzEtMWExNjYwNzgxNzNhIiwidCI6ImRmODY3OWNkLWE4MGUtNDVkOC05OWFjLWM4M2VkN2ZmOTVhMCJ9"
   ]
  }
 ],
 "metadata": {
  "kernelspec": {
   "display_name": "Python 3",
   "language": "python",
   "name": "python3"
  },
  "language_info": {
   "codemirror_mode": {
    "name": "ipython",
    "version": 3
   },
   "file_extension": ".py",
   "mimetype": "text/x-python",
   "name": "python",
   "nbconvert_exporter": "python",
   "pygments_lexer": "ipython3",
   "version": "3.11.5"
  },
  "orig_nbformat": 4
 },
 "nbformat": 4,
 "nbformat_minor": 2
}
